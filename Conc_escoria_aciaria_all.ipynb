{
 "cells": [
  {
   "cell_type": "code",
   "execution_count": 1,
   "metadata": {
    "ExecuteTime": {
     "end_time": "2021-09-28T14:32:36.221735Z",
     "start_time": "2021-09-28T14:32:36.217745Z"
    }
   },
   "outputs": [],
   "source": [
    "# Necessário importar antes do TensorFlow para reproduzir os resultados das redes neurais artificiais\n",
    "import os\n",
    "\n",
    "os.environ['PYTHONHASHSEED']=str(1)"
   ]
  },
  {
   "cell_type": "markdown",
   "metadata": {
    "heading_collapsed": true
   },
   "source": [
    "# 1 Bibliotecas"
   ]
  },
  {
   "cell_type": "code",
   "execution_count": 2,
   "metadata": {
    "ExecuteTime": {
     "end_time": "2021-09-28T14:32:36.236696Z",
     "start_time": "2021-09-28T14:32:36.223730Z"
    },
    "hidden": true
   },
   "outputs": [],
   "source": [
    "# Importação das bibliotecas utilizadas no trabalho\n",
    "import pandas as pd\n",
    "import xgboost as xgb\n",
    "import seaborn as sns\n",
    "import numpy as np\n",
    "\n",
    "\n",
    "from sklearn.model_selection import train_test_split\n",
    "from sklearn.ensemble import RandomForestRegressor, AdaBoostRegressor\n",
    "from lightgbm import LGBMRegressor\n",
    "from sklearn.svm import SVR\n",
    "from matplotlib import pyplot as plt\n",
    "from sklearn.gaussian_process import GaussianProcessRegressor\n",
    "from sklearn.gaussian_process.kernels import ConstantKernel,ExpSineSquared,Matern, RationalQuadratic\n",
    "from sklearn.model_selection import KFold\n",
    "from sklearn.preprocessing import StandardScaler,MinMaxScaler,Normalizer,MaxAbsScaler,RobustScaler\n",
    "\n",
    "\n",
    "from sklearn.metrics import mean_absolute_error, mean_squared_error, r2_score\n",
    "from tensorflow import keras\n",
    "from tensorflow.keras import layers\n",
    "from tensorflow.keras import callbacks\n",
    "import tensorflow as tf\n",
    "import random"
   ]
  },
  {
   "cell_type": "code",
   "execution_count": 3,
   "metadata": {
    "ExecuteTime": {
     "end_time": "2021-09-28T14:32:36.255644Z",
     "start_time": "2021-09-28T14:32:36.238690Z"
    },
    "hidden": true
   },
   "outputs": [],
   "source": [
    "# Função que é chamada antes de rodar as ANNS a fim de proporcionar uma reprodutibilidade do modelo.\n",
    "def reset_random_seeds():\n",
    "    os.environ['PYTHONHASHSEED']=str(1)\n",
    "    tf.random.set_seed(1)\n",
    "    np.random.seed(1)\n",
    "    random.seed(1)\n",
    "\n",
    "# Gerando dados aleatórios\n",
    "reset_random_seeds()"
   ]
  },
  {
   "cell_type": "markdown",
   "metadata": {
    "heading_collapsed": true
   },
   "source": [
    "# 2 Banco de Dados "
   ]
  },
  {
   "cell_type": "markdown",
   "metadata": {
    "hidden": true
   },
   "source": [
    "Para que o código funcione sem que seja necessário alterá-lo, é necessário de que a coluna com os dados de resistência esteja com o nome de \"Resistência\" antes de rodar a celula de importar abaixo. "
   ]
  },
  {
   "cell_type": "code",
   "execution_count": 4,
   "metadata": {
    "ExecuteTime": {
     "end_time": "2021-09-28T14:32:36.359366Z",
     "start_time": "2021-09-28T14:32:36.257639Z"
    },
    "hidden": true
   },
   "outputs": [],
   "source": [
    "# Importando o DataSet\n",
    "df_concreto = pd.read_excel(\"Banco_all.xlsx\") # ALTERAR AQUI O NOME DO ARQUIVO"
   ]
  },
  {
   "cell_type": "code",
   "execution_count": 5,
   "metadata": {
    "ExecuteTime": {
     "end_time": "2021-09-28T14:32:36.367345Z",
     "start_time": "2021-09-28T14:32:36.361362Z"
    },
    "hidden": true
   },
   "outputs": [],
   "source": [
    "df_concreto = df_concreto.rename(columns={'Resistencia':'Resistência'})"
   ]
  },
  {
   "cell_type": "code",
   "execution_count": 6,
   "metadata": {
    "ExecuteTime": {
     "end_time": "2021-09-28T14:32:36.405243Z",
     "start_time": "2021-09-28T14:32:36.368343Z"
    },
    "hidden": true,
    "scrolled": false
   },
   "outputs": [
    {
     "data": {
      "text/html": [
       "<div>\n",
       "<style scoped>\n",
       "    .dataframe tbody tr th:only-of-type {\n",
       "        vertical-align: middle;\n",
       "    }\n",
       "\n",
       "    .dataframe tbody tr th {\n",
       "        vertical-align: top;\n",
       "    }\n",
       "\n",
       "    .dataframe thead th {\n",
       "        text-align: right;\n",
       "    }\n",
       "</style>\n",
       "<table border=\"1\" class=\"dataframe\">\n",
       "  <thead>\n",
       "    <tr style=\"text-align: right;\">\n",
       "      <th></th>\n",
       "      <th>Cimento</th>\n",
       "      <th>Escoria_miuda</th>\n",
       "      <th>Escoria_grauda</th>\n",
       "      <th>Agregado_miudo</th>\n",
       "      <th>Agregado_graudo</th>\n",
       "      <th>Agua/cimento</th>\n",
       "      <th>Agua</th>\n",
       "      <th>Teor_argamassa</th>\n",
       "      <th>Aditivo</th>\n",
       "      <th>Adicoes_pozolanicas</th>\n",
       "      <th>Adicoes_cimenticias</th>\n",
       "      <th>Filler</th>\n",
       "      <th>Idade</th>\n",
       "      <th>Resistência</th>\n",
       "    </tr>\n",
       "  </thead>\n",
       "  <tbody>\n",
       "    <tr>\n",
       "      <th>0</th>\n",
       "      <td>617.0</td>\n",
       "      <td>0.0</td>\n",
       "      <td>524.45</td>\n",
       "      <td>542.96</td>\n",
       "      <td>445.7825</td>\n",
       "      <td>0.3</td>\n",
       "      <td>185.1</td>\n",
       "      <td>52.513966</td>\n",
       "      <td>1.1</td>\n",
       "      <td>0.0</td>\n",
       "      <td>0.0</td>\n",
       "      <td>0.0</td>\n",
       "      <td>3</td>\n",
       "      <td>34.76</td>\n",
       "    </tr>\n",
       "    <tr>\n",
       "      <th>1</th>\n",
       "      <td>617.0</td>\n",
       "      <td>0.0</td>\n",
       "      <td>1048.90</td>\n",
       "      <td>542.96</td>\n",
       "      <td>0.0000</td>\n",
       "      <td>0.3</td>\n",
       "      <td>185.1</td>\n",
       "      <td>52.513966</td>\n",
       "      <td>1.1</td>\n",
       "      <td>0.0</td>\n",
       "      <td>0.0</td>\n",
       "      <td>0.0</td>\n",
       "      <td>3</td>\n",
       "      <td>39.85</td>\n",
       "    </tr>\n",
       "    <tr>\n",
       "      <th>2</th>\n",
       "      <td>617.0</td>\n",
       "      <td>0.0</td>\n",
       "      <td>524.45</td>\n",
       "      <td>542.96</td>\n",
       "      <td>445.7825</td>\n",
       "      <td>0.3</td>\n",
       "      <td>185.1</td>\n",
       "      <td>52.513966</td>\n",
       "      <td>1.1</td>\n",
       "      <td>0.0</td>\n",
       "      <td>0.0</td>\n",
       "      <td>0.0</td>\n",
       "      <td>7</td>\n",
       "      <td>43.61</td>\n",
       "    </tr>\n",
       "    <tr>\n",
       "      <th>3</th>\n",
       "      <td>617.0</td>\n",
       "      <td>0.0</td>\n",
       "      <td>1048.90</td>\n",
       "      <td>542.96</td>\n",
       "      <td>0.0000</td>\n",
       "      <td>0.3</td>\n",
       "      <td>185.1</td>\n",
       "      <td>52.513966</td>\n",
       "      <td>1.1</td>\n",
       "      <td>0.0</td>\n",
       "      <td>0.0</td>\n",
       "      <td>0.0</td>\n",
       "      <td>7</td>\n",
       "      <td>42.97</td>\n",
       "    </tr>\n",
       "    <tr>\n",
       "      <th>4</th>\n",
       "      <td>617.0</td>\n",
       "      <td>0.0</td>\n",
       "      <td>524.45</td>\n",
       "      <td>542.96</td>\n",
       "      <td>445.7825</td>\n",
       "      <td>0.3</td>\n",
       "      <td>185.1</td>\n",
       "      <td>52.513966</td>\n",
       "      <td>1.1</td>\n",
       "      <td>0.0</td>\n",
       "      <td>0.0</td>\n",
       "      <td>0.0</td>\n",
       "      <td>28</td>\n",
       "      <td>52.84</td>\n",
       "    </tr>\n",
       "  </tbody>\n",
       "</table>\n",
       "</div>"
      ],
      "text/plain": [
       "   Cimento  Escoria_miuda  Escoria_grauda  Agregado_miudo  Agregado_graudo  \\\n",
       "0    617.0            0.0          524.45          542.96         445.7825   \n",
       "1    617.0            0.0         1048.90          542.96           0.0000   \n",
       "2    617.0            0.0          524.45          542.96         445.7825   \n",
       "3    617.0            0.0         1048.90          542.96           0.0000   \n",
       "4    617.0            0.0          524.45          542.96         445.7825   \n",
       "\n",
       "   Agua/cimento   Agua  Teor_argamassa  Aditivo  Adicoes_pozolanicas  \\\n",
       "0           0.3  185.1       52.513966      1.1                  0.0   \n",
       "1           0.3  185.1       52.513966      1.1                  0.0   \n",
       "2           0.3  185.1       52.513966      1.1                  0.0   \n",
       "3           0.3  185.1       52.513966      1.1                  0.0   \n",
       "4           0.3  185.1       52.513966      1.1                  0.0   \n",
       "\n",
       "   Adicoes_cimenticias  Filler  Idade  Resistência  \n",
       "0                  0.0     0.0      3        34.76  \n",
       "1                  0.0     0.0      3        39.85  \n",
       "2                  0.0     0.0      7        43.61  \n",
       "3                  0.0     0.0      7        42.97  \n",
       "4                  0.0     0.0     28        52.84  "
      ]
     },
     "execution_count": 6,
     "metadata": {},
     "output_type": "execute_result"
    }
   ],
   "source": [
    "df_concreto.head()"
   ]
  },
  {
   "cell_type": "code",
   "execution_count": 7,
   "metadata": {
    "ExecuteTime": {
     "end_time": "2021-09-28T14:32:36.418210Z",
     "start_time": "2021-09-28T14:32:36.408237Z"
    },
    "hidden": true,
    "scrolled": true
   },
   "outputs": [
    {
     "data": {
      "text/plain": [
       "(406, 14)"
      ]
     },
     "execution_count": 7,
     "metadata": {},
     "output_type": "execute_result"
    }
   ],
   "source": [
    "df_concreto.shape"
   ]
  },
  {
   "cell_type": "markdown",
   "metadata": {},
   "source": [
    "# 3 Machine Learning"
   ]
  },
  {
   "cell_type": "markdown",
   "metadata": {},
   "source": [
    "## 3.1 Preparação"
   ]
  },
  {
   "cell_type": "markdown",
   "metadata": {},
   "source": [
    "Primeiro vamos criar um DataFrame para armazenar o resultado de cada modelo."
   ]
  },
  {
   "cell_type": "code",
   "execution_count": 8,
   "metadata": {
    "ExecuteTime": {
     "end_time": "2021-09-28T14:32:36.525921Z",
     "start_time": "2021-09-28T14:32:36.511959Z"
    }
   },
   "outputs": [],
   "source": [
    "colunas = ['MODEL','MAE','RMSE', 'MSE', 'R2','MAE_MAX','MAE_MIN']\n",
    "Metrics = pd.DataFrame(columns = colunas)"
   ]
  },
  {
   "cell_type": "markdown",
   "metadata": {},
   "source": [
    "Vamos também já organizar o banco de dados e o cross validation para todos os modelos utilizarem o mesmo."
   ]
  },
  {
   "cell_type": "code",
   "execution_count": 9,
   "metadata": {
    "ExecuteTime": {
     "end_time": "2021-09-28T14:32:36.540882Z",
     "start_time": "2021-09-28T14:32:36.527916Z"
    }
   },
   "outputs": [
    {
     "data": {
      "text/plain": [
       "(406, 11)"
      ]
     },
     "execution_count": 9,
     "metadata": {},
     "output_type": "execute_result"
    }
   ],
   "source": [
    "X = df_concreto.drop(['Resistência','Agua/cimento','Teor_argamassa'], axis=1)\n",
    "y = df_concreto['Resistência']\n",
    "X.shape"
   ]
  },
  {
   "cell_type": "markdown",
   "metadata": {},
   "source": [
    "Definindo as configurações do KFold:"
   ]
  },
  {
   "cell_type": "code",
   "execution_count": 10,
   "metadata": {
    "ExecuteTime": {
     "end_time": "2021-09-28T14:32:36.554844Z",
     "start_time": "2021-09-28T14:32:36.541878Z"
    }
   },
   "outputs": [],
   "source": [
    "kf = KFold(10, shuffle=True, random_state=451)"
   ]
  },
  {
   "cell_type": "markdown",
   "metadata": {},
   "source": [
    "Criando a Matriz de Correlação:"
   ]
  },
  {
   "cell_type": "code",
   "execution_count": 11,
   "metadata": {
    "ExecuteTime": {
     "end_time": "2021-09-28T14:32:37.996698Z",
     "start_time": "2021-09-28T14:32:36.555848Z"
    },
    "scrolled": true
   },
   "outputs": [
    {
     "data": {
      "image/png": "[encoded data removed]",
      "text/plain": [
       "<Figure size 1440x1080 with 2 Axes>"
      ]
     },
     "metadata": {
      "needs_background": "light"
     },
     "output_type": "display_data"
    }
   ],
   "source": [
    "test_corr = X.copy()\n",
    "test_corr['resistencia'] = y\n",
    "\n",
    "plt.rcParams['figure.figsize'] = (20, 15) \n",
    "sns.heatmap(test_corr.corr(), annot = True, linewidths=.5, cmap=\"YlGnBu\")\n",
    "plt.title('Correlação entre Características', fontsize = 30)\n",
    "plt.show()"
   ]
  },
  {
   "cell_type": "markdown",
   "metadata": {},
   "source": [
    "## 3.2 Modelos"
   ]
  },
  {
   "cell_type": "markdown",
   "metadata": {},
   "source": [
    "### 3.2.1 Processo Gaussiano de Regressão (GPR)"
   ]
  },
  {
   "cell_type": "code",
   "execution_count": 12,
   "metadata": {
    "ExecuteTime": {
     "end_time": "2021-09-28T14:38:01.849590Z",
     "start_time": "2021-09-28T14:37:54.025309Z"
    }
   },
   "outputs": [],
   "source": [
    "# Listas criadas para adicionar cada desempenho do K-Fold e depois obter a média.\n",
    "MAE = []\n",
    "RMSE = []\n",
    "MSE = []\n",
    "R2 = []\n",
    "# -------------------\n",
    "\n",
    "# Dataframe criado com o intuito de analisar cada resultado real e predito.\n",
    "df_analise_gpr = pd.DataFrame(columns=[['real','predito']])\n",
    "# ------------------\n",
    "\n",
    "# Criação de um laço \"for\" para percorrer cada fold definido\n",
    "for linhas_treino, linhas_valid in kf.split(X):    \n",
    "    X_treino, X_valid = X.iloc[linhas_treino], X.iloc[linhas_valid]\n",
    "    y_treino, y_valid = y.iloc[linhas_treino], y.iloc[linhas_valid]\n",
    "\n",
    "    scaler = StandardScaler()\n",
    "    X_treino = scaler.fit_transform(X_treino)\n",
    "    X_valid = scaler.transform(X_valid)      \n",
    "\n",
    "    # Modelo: definição do Kernel e treinamento\n",
    "    kernel = ConstantKernel() * RationalQuadratic()\n",
    "    gpr = GaussianProcessRegressor(kernel=kernel, alpha=1.5,random_state=0).fit(X_treino, y_treino)\n",
    "    \n",
    "    # Predições do modelo\n",
    "    pred_gpr = gpr.predict(X_valid)\n",
    "    \n",
    "    # Armazenamento do valor obtido na predição de cada fold em outro DataFrame.\n",
    "    df_pred = pd.DataFrame()\n",
    "    df_pred['real'] = y_valid\n",
    "    df_pred['predito'] = pred_gpr\n",
    "    \n",
    "    # Armazenamento da predição de cada fold no DataSet criado fora do laço \"for\".\n",
    "    if df_analise_gpr.shape[0] == 0:\n",
    "        df_analise_gpr = df_pred\n",
    "    else:\n",
    "        df_analise_gpr = pd.concat([df_analise_gpr, df_pred])\n",
    "    \n",
    "    # Cálculo das métricas do modelo para cada fold e adição às listas criadas fora do laço \"for\".\n",
    "    MAE_aux = mean_absolute_error(y_valid, pred_gpr)          \n",
    "    MAE.append(MAE_aux)\n",
    "    \n",
    "    RMSE_aux = mean_squared_error(y_valid, pred_gpr, squared=False)\n",
    "    RMSE.append(RMSE_aux)\n",
    "    \n",
    "    MSE_aux = mean_squared_error(y_valid, pred_gpr, squared=True)\n",
    "    MSE.append(MSE_aux)\n",
    "    \n",
    "    R2_aux = r2_score(y_valid, pred_gpr)\n",
    "    R2.append(R2_aux)"
   ]
  },
  {
   "cell_type": "code",
   "execution_count": 13,
   "metadata": {
    "ExecuteTime": {
     "end_time": "2021-09-28T14:38:01.861096Z",
     "start_time": "2021-09-28T14:38:01.849590Z"
    }
   },
   "outputs": [],
   "source": [
    "# Obtêm-se os valores máximo e mínimo do MAE\n",
    "\n",
    "df_an_gpr = df_concreto.copy()\n",
    "df_an_gpr = df_an_gpr.rename(columns={'Resistência': 'Real','EscóriadeAltoForno': 'Escoria'})\n",
    "\n",
    "df_an_gpr['predito'] = df_analise_gpr['predito']\n",
    "df_an_gpr['mae'] = abs(df_an_gpr['Real']-df_an_gpr['predito'])\n",
    "\n",
    "MAE_MAX = df_an_gpr['mae'].max()\n",
    "MAE_MIN= df_an_gpr['mae'].min()"
   ]
  },
  {
   "cell_type": "code",
   "execution_count": 14,
   "metadata": {
    "ExecuteTime": {
     "end_time": "2021-09-28T14:38:01.967810Z",
     "start_time": "2021-09-28T14:38:01.868078Z"
    }
   },
   "outputs": [],
   "source": [
    "# Cria-se uma lista a fim de serem adicionadas as médias calculadas para cada métrica de todos os modelos\n",
    "gprmetrics = ['GPR', np.mean(MAE), np.mean(RMSE), np.mean(MSE), np.mean(R2),MAE_MAX,MAE_MIN]\n",
    "Metrics.loc[len(Metrics)] = gprmetrics"
   ]
  },
  {
   "cell_type": "markdown",
   "metadata": {},
   "source": [
    "### 3.2.2 Redes Neurais Artificiais (ANN)"
   ]
  },
  {
   "cell_type": "code",
   "execution_count": 15,
   "metadata": {
    "ExecuteTime": {
     "end_time": "2021-09-28T14:40:09.323589Z",
     "start_time": "2021-09-28T14:39:04.214912Z"
    },
    "scrolled": true
   },
   "outputs": [
    {
     "name": "stdout",
     "output_type": "stream",
     "text": [
      "WARNING:tensorflow:5 out of the last 9 calls to <function Model.make_predict_function.<locals>.predict_function at 0x0000018F3F9C3B80> triggered tf.function retracing. Tracing is expensive and the excessive number of tracings could be due to (1) creating @tf.function repeatedly in a loop, (2) passing tensors with different shapes, (3) passing Python objects instead of tensors. For (1), please define your @tf.function outside of the loop. For (2), @tf.function has experimental_relax_shapes=True option that relaxes argument shapes that can avoid unnecessary retracing. For (3), please refer to https://www.tensorflow.org/guide/function#controlling_retracing and https://www.tensorflow.org/api_docs/python/tf/function for  more details.\n",
      "WARNING:tensorflow:6 out of the last 11 calls to <function Model.make_predict_function.<locals>.predict_function at 0x0000018F3F5EFAF0> triggered tf.function retracing. Tracing is expensive and the excessive number of tracings could be due to (1) creating @tf.function repeatedly in a loop, (2) passing tensors with different shapes, (3) passing Python objects instead of tensors. For (1), please define your @tf.function outside of the loop. For (2), @tf.function has experimental_relax_shapes=True option that relaxes argument shapes that can avoid unnecessary retracing. For (3), please refer to https://www.tensorflow.org/guide/function#controlling_retracing and https://www.tensorflow.org/api_docs/python/tf/function for  more details.\n",
      "WARNING:tensorflow:6 out of the last 11 calls to <function Model.make_predict_function.<locals>.predict_function at 0x0000018F42398E50> triggered tf.function retracing. Tracing is expensive and the excessive number of tracings could be due to (1) creating @tf.function repeatedly in a loop, (2) passing tensors with different shapes, (3) passing Python objects instead of tensors. For (1), please define your @tf.function outside of the loop. For (2), @tf.function has experimental_relax_shapes=True option that relaxes argument shapes that can avoid unnecessary retracing. For (3), please refer to https://www.tensorflow.org/guide/function#controlling_retracing and https://www.tensorflow.org/api_docs/python/tf/function for  more details.\n",
      "WARNING:tensorflow:6 out of the last 11 calls to <function Model.make_predict_function.<locals>.predict_function at 0x0000018F30AD21F0> triggered tf.function retracing. Tracing is expensive and the excessive number of tracings could be due to (1) creating @tf.function repeatedly in a loop, (2) passing tensors with different shapes, (3) passing Python objects instead of tensors. For (1), please define your @tf.function outside of the loop. For (2), @tf.function has experimental_relax_shapes=True option that relaxes argument shapes that can avoid unnecessary retracing. For (3), please refer to https://www.tensorflow.org/guide/function#controlling_retracing and https://www.tensorflow.org/api_docs/python/tf/function for  more details.\n",
      "WARNING:tensorflow:6 out of the last 11 calls to <function Model.make_predict_function.<locals>.predict_function at 0x0000018F3F9435E0> triggered tf.function retracing. Tracing is expensive and the excessive number of tracings could be due to (1) creating @tf.function repeatedly in a loop, (2) passing tensors with different shapes, (3) passing Python objects instead of tensors. For (1), please define your @tf.function outside of the loop. For (2), @tf.function has experimental_relax_shapes=True option that relaxes argument shapes that can avoid unnecessary retracing. For (3), please refer to https://www.tensorflow.org/guide/function#controlling_retracing and https://www.tensorflow.org/api_docs/python/tf/function for  more details.\n",
      "WARNING:tensorflow:6 out of the last 11 calls to <function Model.make_predict_function.<locals>.predict_function at 0x0000018F3F707F70> triggered tf.function retracing. Tracing is expensive and the excessive number of tracings could be due to (1) creating @tf.function repeatedly in a loop, (2) passing tensors with different shapes, (3) passing Python objects instead of tensors. For (1), please define your @tf.function outside of the loop. For (2), @tf.function has experimental_relax_shapes=True option that relaxes argument shapes that can avoid unnecessary retracing. For (3), please refer to https://www.tensorflow.org/guide/function#controlling_retracing and https://www.tensorflow.org/api_docs/python/tf/function for  more details.\n"
     ]
    }
   ],
   "source": [
    "# Listas criadas para adicionar cada desempenho do K-Fold e depois obter a média.\n",
    "MAE = []\n",
    "RMSE = []\n",
    "MSE = []\n",
    "R2 = []\n",
    "\n",
    "# Dataframe criado com o intuito de analisar cada resultado real e predito.\n",
    "df_analise_ann = pd.DataFrame(columns=[['real','predito']])\n",
    "\n",
    "# Criação de um laço \"for\" para percorrer cada fold definido\n",
    "for linhas_treino, linhas_valid in kf.split(X):\n",
    "    \n",
    "    #Função para obter resultados reprodutíveis  \n",
    "    reset_random_seeds()\n",
    "\n",
    "    X_treino, X_valid = X.iloc[linhas_treino], X.iloc[linhas_valid]\n",
    "    y_treino, y_valid = y.iloc[linhas_treino], y.iloc[linhas_valid]\n",
    "\n",
    "    scaler = StandardScaler()\n",
    "    X_treino = scaler.fit_transform(X_treino)\n",
    "    X_valid = scaler.transform(X_valid) \n",
    "    \n",
    "    # Definindo o EarlyStopping, a fim de que o modelo pare ao registrar que as predições não estão melhorando\n",
    "    early_stopping = callbacks.EarlyStopping(\n",
    "        min_delta=0.02, # o valor de melhora desejado\n",
    "        patience=25, # a quantidade de vezes que ele deve rodar sem obter a melhora acima para parar o algoritmo\n",
    "        restore_best_weights=True)\n",
    "    \n",
    "      # Definição do modelo e treinamento\n",
    "    model = keras.Sequential([\n",
    "        layers.BatchNormalization(), # Normalização dos dados\n",
    "        layers.Dense(256, activation='relu', input_shape=[X.shape[1]]),# Define-se a camada com 256 neurônios, função de ativação \"relu\" e input de acordo com a quantidade de variáveis de entrada\n",
    "        layers.BatchNormalization(),\n",
    "        layers.Dense(256, activation='relu'),\n",
    "        layers.BatchNormalization(),\n",
    "        layers.Dense(256, activation='relu'),\n",
    "        layers.BatchNormalization(),\n",
    "        layers.Dense(1), #Saída de apenas uma variável\n",
    "    ])\n",
    "    \n",
    "    \n",
    "    model.compile(\n",
    "        optimizer='sgd', # Define-se o tipo de otimizador utilizado\n",
    "        loss='mae', # Define-se a \"loss function\"\n",
    "        metrics=['mae','mse'],\n",
    "    )\n",
    "    history = model.fit(\n",
    "        X_treino, y_treino, # Dados de treino\n",
    "        validation_data=(X_valid, y_valid), # Dados de teste\n",
    "        batch_size=45, #Define-se a quantidade de lotes\n",
    "        epochs=150, #Define-se a quantidade de épocas\n",
    "        verbose=0,\n",
    "        callbacks=[early_stopping],\n",
    "    \n",
    "    )\n",
    "    \n",
    "    # Predições do modelo\n",
    "    ann_pred = model.predict(X_valid)\n",
    "    \n",
    "    # Armazenamento do valor obtido na predição de cada K-fold em outro DataFrame.\n",
    "    df_pred = pd.DataFrame()    \n",
    "    df_pred['real'] = y_valid\n",
    "    df_pred['predito'] = ann_pred    \n",
    "    pred_ann = df_pred['predito']\n",
    "    \n",
    "    # Armazenamento da predição de cada fold no DataSet criado fora do laço \"for\".\n",
    "    if df_analise_ann.shape[0] == 0:\n",
    "        df_analise_ann = df_pred\n",
    "    else:\n",
    "        df_analise_ann = pd.concat([df_analise_ann, df_pred])\n",
    "    \n",
    "    # Cálculo das métricas do modelo para cada fold e adição às listas criadas fora do laço \"for\".\n",
    "    MAE_aux = mean_absolute_error(y_valid, pred_ann)          \n",
    "    MAE.append(MAE_aux)\n",
    "    \n",
    "    RMSE_aux = mean_squared_error(y_valid, pred_ann, squared=False)\n",
    "    RMSE.append(RMSE_aux)\n",
    "    \n",
    "    MSE_aux = mean_squared_error(y_valid, pred_ann, squared=True)\n",
    "    MSE.append(MSE_aux)\n",
    "    \n",
    "    R2_aux = r2_score(y_valid, pred_ann)\n",
    "    R2.append(R2_aux)"
   ]
  },
  {
   "cell_type": "code",
   "execution_count": 16,
   "metadata": {
    "ExecuteTime": {
     "end_time": "2021-09-28T14:40:09.338549Z",
     "start_time": "2021-09-28T14:40:09.326583Z"
    }
   },
   "outputs": [],
   "source": [
    "# Obtêm-se os valores máximo e mínimo do MAE\n",
    "df_an_ann = df_concreto.copy()\n",
    "df_an_ann = df_an_ann.rename(columns={'Resistência': 'Real'})\n",
    "\n",
    "df_an_ann['predito'] = df_analise_ann['predito']\n",
    "df_an_ann['mae'] = abs(df_an_ann['Real']- df_an_ann['predito'])\n",
    "\n",
    "MAE_MAX = df_an_ann['mae'].max()\n",
    "MAE_MIN= df_an_ann['mae'].min()"
   ]
  },
  {
   "cell_type": "code",
   "execution_count": 17,
   "metadata": {
    "ExecuteTime": {
     "end_time": "2021-09-28T14:40:09.357502Z",
     "start_time": "2021-09-28T14:40:09.341543Z"
    }
   },
   "outputs": [],
   "source": [
    "# Cria-se uma lista a fim de serem adicionadas as médias calculadas para cada métrica de todos os modelos\n",
    "annmetrics = ['ANN', np.mean(MAE), np.mean(RMSE), np.mean(MSE), np.mean(R2), MAE_MAX, MAE_MIN]\n",
    "Metrics.loc[len(Metrics)] = annmetrics"
   ]
  },
  {
   "cell_type": "markdown",
   "metadata": {},
   "source": [
    "### 3.2.3 Extreme Gradient Boosting (XGBoost)"
   ]
  },
  {
   "cell_type": "code",
   "execution_count": 18,
   "metadata": {
    "ExecuteTime": {
     "end_time": "2021-09-28T14:42:12.031148Z",
     "start_time": "2021-09-28T14:42:11.274252Z"
    }
   },
   "outputs": [],
   "source": [
    "# Listas criadas para adicionar cada desempenho do K-Fold e depois obter a média.\n",
    "MAE = []\n",
    "RMSE = []\n",
    "MSE = []\n",
    "R2 = []\n",
    "\n",
    "\n",
    "df_analise_xgboost = pd.DataFrame(columns=[['real','predito']])\n",
    "for linhas_treino, linhas_valid in kf.split(X):    \n",
    "    X_treino, X_valid = X.iloc[linhas_treino], X.iloc[linhas_valid]\n",
    "    y_treino, y_valid = y.iloc[linhas_treino], y.iloc[linhas_valid]\n",
    "    \n",
    "    # Definição do modelo\n",
    "    xgbc = xgb.XGBRegressor(colsample_bytree= 0.5333820701805849, \n",
    "                            learning_rate= 0.12663989471251058, \n",
    "                            max_depth= 9, \n",
    "                            min_child_weight= 3.2838398180702932, \n",
    "                            subsample= 0.2938445453291092)\n",
    "    scaler = StandardScaler()\n",
    "    X_treino = scaler.fit_transform(X_treino)\n",
    "    X_valid = scaler.transform(X_valid)\n",
    "    \n",
    "    # Treina-se o modelo\n",
    "    xgbc.fit(X_treino, y_treino)\n",
    "    \n",
    "    # Predições do modelo\n",
    "    pred_gpr = xgbc.predict(X_valid)\n",
    "    \n",
    "    # Armazenamento do valor obtido na predição de cada K-fold em outro DataFrame.\n",
    "    df_pred = pd.DataFrame()\n",
    "    df_pred['real'] = y_valid\n",
    "    df_pred['predito'] = pred_gpr\n",
    "    \n",
    "    # Armazenamento da predição de cada fold no DataSet criado fora do laço \"for\".\n",
    "    if df_analise_xgboost.shape[0] == 0:\n",
    "        df_analise_xgboost = df_pred\n",
    "    else:\n",
    "        df_analise_xgboost = pd.concat([df_analise_xgboost, df_pred])\n",
    "    \n",
    "    # Cálculo das métricas do modelo para cada fold e adição às listas criadas fora do laço \"for\".\n",
    "    MAE_aux = mean_absolute_error(y_valid, pred_gpr)          \n",
    "    MAE.append(MAE_aux)\n",
    "    \n",
    "    RMSE_aux = mean_squared_error(y_valid, pred_gpr, squared=False)\n",
    "    RMSE.append(RMSE_aux)\n",
    "    \n",
    "    MSE_aux = mean_squared_error(y_valid, pred_gpr, squared=True)\n",
    "    MSE.append(MSE_aux)\n",
    "    \n",
    "    R2_aux = r2_score(y_valid, pred_gpr)\n",
    "    R2.append(R2_aux)"
   ]
  },
  {
   "cell_type": "code",
   "execution_count": 19,
   "metadata": {
    "ExecuteTime": {
     "end_time": "2021-09-28T14:42:12.051325Z",
     "start_time": "2021-09-28T14:42:12.031148Z"
    }
   },
   "outputs": [],
   "source": [
    "# Obtêm-se os valores máximo e mínimo do MAE\n",
    "df_an_xgboost = df_concreto.copy()\n",
    "df_an_xgboost = df_an_xgboost.rename(columns={'Resistência': 'Real','EscóriadeAltoForno': 'Escoria'})\n",
    "\n",
    "df_an_xgboost['predito'] = df_analise_xgboost['predito']\n",
    "df_an_xgboost['mae'] = abs(df_an_xgboost['Real']-df_an_xgboost['predito'])\n",
    "\n",
    "MAE_MAX = df_an_xgboost['mae'].max()\n",
    "MAE_MIN = df_an_xgboost['mae'].min()"
   ]
  },
  {
   "cell_type": "code",
   "execution_count": 20,
   "metadata": {
    "ExecuteTime": {
     "end_time": "2021-09-28T14:42:12.080811Z",
     "start_time": "2021-09-28T14:42:12.051325Z"
    }
   },
   "outputs": [],
   "source": [
    "# Cria-se uma lista a fim de serem adicionadas as médias calculadas para cada métrica de todos os modelos\n",
    "gprmetrics = ['XGBoost', np.mean(MAE), np.mean(RMSE), np.mean(MSE), np.mean(R2), MAE_MAX, MAE_MIN]\n",
    "Metrics.loc[len(Metrics)] = gprmetrics"
   ]
  },
  {
   "cell_type": "markdown",
   "metadata": {},
   "source": [
    "### 3.2.4 Support Vector Regression (SVR)"
   ]
  },
  {
   "cell_type": "code",
   "execution_count": 21,
   "metadata": {
    "ExecuteTime": {
     "end_time": "2021-09-28T14:41:39.496789Z",
     "start_time": "2021-09-28T14:41:39.230602Z"
    }
   },
   "outputs": [],
   "source": [
    "# Listas criadas para adicionar cada desempenho do K-Fold e depois obter a média.\n",
    "MAE = []\n",
    "RMSE = []\n",
    "MSE = []\n",
    "R2 = []\n",
    "\n",
    "df_analise_svr = pd.DataFrame(columns=[['real','predito']])\n",
    "for linhas_treino, linhas_valid in kf.split(X):    \n",
    "    X_treino, X_valid = X.iloc[linhas_treino], X.iloc[linhas_valid]\n",
    "    y_treino, y_valid = y.iloc[linhas_treino], y.iloc[linhas_valid]\n",
    "    \n",
    "    # Definição do modelo\n",
    "    svr_model = SVR(kernel='rbf',C = 205.66079785025673, gamma = 0.012257611393695286)\n",
    "    scaler = StandardScaler()\n",
    "    X_treino = scaler.fit_transform(X_treino)\n",
    "    X_valid = scaler.transform(X_valid)\n",
    "    \n",
    "    # Treina-se o modelo\n",
    "    svr_model.fit(X_treino, y_treino)\n",
    "    \n",
    "    # Predições do modelo\n",
    "    pred_svr = svr_model.predict(X_valid)\n",
    "    \n",
    "    # Armazenamento do valor obtido na predição de cada K-fold em outro DataFrame.\n",
    "    df_pred = pd.DataFrame()\n",
    "    df_pred['real'] = y_valid\n",
    "    df_pred['predito'] = pred_svr\n",
    "    \n",
    "    # Armazenamento da predição de cada fold no DataSet criado fora do laço \"for\".\n",
    "    if df_analise_svr.shape[0] == 0:\n",
    "        df_analise_svr = df_pred\n",
    "    else:\n",
    "        df_analise_svr = pd.concat([df_analise_svr, df_pred])\n",
    "\n",
    "    # Cálculo das métricas do modelo para cada fold e adição às listas criadas fora do laço \"for\". \n",
    "    MAE_aux = mean_absolute_error(y_valid, pred_svr)          \n",
    "    MAE.append(MAE_aux)\n",
    "    \n",
    "    RMSE_aux = mean_squared_error(y_valid, pred_svr, squared=False)\n",
    "    RMSE.append(RMSE_aux)\n",
    "    \n",
    "    MSE_aux = mean_squared_error(y_valid, pred_svr, squared=True)\n",
    "    MSE.append(MSE_aux)\n",
    "    \n",
    "    R2_aux = r2_score(y_valid, pred_svr)\n",
    "    R2.append(R2_aux)"
   ]
  },
  {
   "cell_type": "code",
   "execution_count": 22,
   "metadata": {
    "ExecuteTime": {
     "end_time": "2021-09-28T14:41:39.511146Z",
     "start_time": "2021-09-28T14:41:39.496789Z"
    }
   },
   "outputs": [],
   "source": [
    "# Obtêm-se os valores máximo e mínimo do MAE\n",
    "df_an_svr = df_concreto.copy()\n",
    "df_an_svr = df_an_svr.rename(columns={'Resistência': 'Real'})\n",
    "\n",
    "df_an_svr['predito'] = df_analise_svr['predito']\n",
    "df_an_svr['mae'] = abs(df_an_svr['Real']-df_an_svr['predito'])\n",
    "\n",
    "MAE_MAX = df_an_svr['mae'].max()\n",
    "MAE_MIN = df_an_svr['mae'].min()"
   ]
  },
  {
   "cell_type": "code",
   "execution_count": 23,
   "metadata": {
    "ExecuteTime": {
     "end_time": "2021-09-28T14:41:39.532090Z",
     "start_time": "2021-09-28T14:41:39.514139Z"
    }
   },
   "outputs": [],
   "source": [
    "# Cria-se uma lista a fim de serem adicionadas as médias calculadas para cada métrica de todos os modelos\n",
    "svrmetrics = ['SVR', np.mean(MAE), np.mean(RMSE), np.mean(MSE), np.mean(R2), MAE_MAX, MAE_MIN]\n",
    "Metrics.loc[len(Metrics)] = svrmetrics"
   ]
  },
  {
   "cell_type": "markdown",
   "metadata": {},
   "source": [
    "## 3.3 Resultados"
   ]
  },
  {
   "cell_type": "code",
   "execution_count": 24,
   "metadata": {
    "ExecuteTime": {
     "end_time": "2021-09-28T14:33:50.587484Z",
     "start_time": "2021-09-28T14:33:50.569531Z"
    },
    "scrolled": true
   },
   "outputs": [
    {
     "data": {
      "text/html": [
       "<div>\n",
       "<style scoped>\n",
       "    .dataframe tbody tr th:only-of-type {\n",
       "        vertical-align: middle;\n",
       "    }\n",
       "\n",
       "    .dataframe tbody tr th {\n",
       "        vertical-align: top;\n",
       "    }\n",
       "\n",
       "    .dataframe thead th {\n",
       "        text-align: right;\n",
       "    }\n",
       "</style>\n",
       "<table border=\"1\" class=\"dataframe\">\n",
       "  <thead>\n",
       "    <tr style=\"text-align: right;\">\n",
       "      <th></th>\n",
       "      <th>MODEL</th>\n",
       "      <th>MAE</th>\n",
       "      <th>RMSE</th>\n",
       "      <th>MSE</th>\n",
       "      <th>R2</th>\n",
       "      <th>MAE_MAX</th>\n",
       "      <th>MAE_MIN</th>\n",
       "    </tr>\n",
       "  </thead>\n",
       "  <tbody>\n",
       "    <tr>\n",
       "      <th>0</th>\n",
       "      <td>GPR</td>\n",
       "      <td>4.709294</td>\n",
       "      <td>6.589436</td>\n",
       "      <td>44.407224</td>\n",
       "      <td>0.890522</td>\n",
       "      <td>34.169226</td>\n",
       "      <td>0.022816</td>\n",
       "    </tr>\n",
       "    <tr>\n",
       "      <th>1</th>\n",
       "      <td>ANN</td>\n",
       "      <td>3.926490</td>\n",
       "      <td>5.923750</td>\n",
       "      <td>36.682550</td>\n",
       "      <td>0.909066</td>\n",
       "      <td>37.457345</td>\n",
       "      <td>0.005211</td>\n",
       "    </tr>\n",
       "    <tr>\n",
       "      <th>2</th>\n",
       "      <td>XGBoost</td>\n",
       "      <td>3.396963</td>\n",
       "      <td>5.076105</td>\n",
       "      <td>26.931215</td>\n",
       "      <td>0.933573</td>\n",
       "      <td>28.132696</td>\n",
       "      <td>0.008536</td>\n",
       "    </tr>\n",
       "    <tr>\n",
       "      <th>3</th>\n",
       "      <td>SVR</td>\n",
       "      <td>5.606768</td>\n",
       "      <td>8.110076</td>\n",
       "      <td>68.011729</td>\n",
       "      <td>0.830929</td>\n",
       "      <td>36.385250</td>\n",
       "      <td>0.002574</td>\n",
       "    </tr>\n",
       "  </tbody>\n",
       "</table>\n",
       "</div>"
      ],
      "text/plain": [
       "     MODEL       MAE      RMSE        MSE        R2    MAE_MAX   MAE_MIN\n",
       "0      GPR  4.709294  6.589436  44.407224  0.890522  34.169226  0.022816\n",
       "1      ANN  3.926490  5.923750  36.682550  0.909066  37.457345  0.005211\n",
       "2  XGBoost  3.396963  5.076105  26.931215  0.933573  28.132696  0.008536\n",
       "3      SVR  5.606768  8.110076  68.011729  0.830929  36.385250  0.002574"
      ]
     },
     "execution_count": 24,
     "metadata": {},
     "output_type": "execute_result"
    }
   ],
   "source": [
    "Metrics"
   ]
  }
 ],
 "metadata": {
  "kernelspec": {
   "display_name": "Python 3",
   "language": "python",
   "name": "python3"
  },
  "language_info": {
   "codemirror_mode": {
    "name": "ipython",
    "version": 3
   },
   "file_extension": ".py",
   "mimetype": "text/x-python",
   "name": "python",
   "nbconvert_exporter": "python",
   "pygments_lexer": "ipython3",
   "version": "3.8.6"
  }
 },
 "nbformat": 4,
 "nbformat_minor": 4
}
